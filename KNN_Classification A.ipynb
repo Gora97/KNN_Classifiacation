{
 "cells": [
  {
   "cell_type": "code",
   "execution_count": 1,
   "id": "08353435",
   "metadata": {
    "ExecuteTime": {
     "end_time": "2023-04-28T16:57:19.161382Z",
     "start_time": "2023-04-28T16:57:16.187069Z"
    }
   },
   "outputs": [],
   "source": [
    "import pandas as pd \n",
    "import numpy as np \n",
    "import matplotlib.pyplot as plt\n",
    "from sklearn.preprocessing import StandardScaler\n",
    "from sklearn.neighbors import KNeighborsClassifier\n",
    "from sklearn.metrics import confusion_matrix\n",
    "from sklearn.metrics import f1_score\n",
    "from sklearn.metrics import accuracy_score"
   ]
  },
  {
   "cell_type": "code",
   "execution_count": 2,
   "id": "bf3f074a",
   "metadata": {
    "ExecuteTime": {
     "end_time": "2023-04-28T16:57:37.623652Z",
     "start_time": "2023-04-28T16:57:37.585679Z"
    }
   },
   "outputs": [],
   "source": [
    "data=pd.read_csv('glass.csv')"
   ]
  },
  {
   "cell_type": "code",
   "execution_count": 3,
   "id": "4128c3e1",
   "metadata": {
    "ExecuteTime": {
     "end_time": "2023-04-28T16:57:39.599894Z",
     "start_time": "2023-04-28T16:57:39.531936Z"
    }
   },
   "outputs": [
    {
     "data": {
      "text/html": [
       "<div>\n",
       "<style scoped>\n",
       "    .dataframe tbody tr th:only-of-type {\n",
       "        vertical-align: middle;\n",
       "    }\n",
       "\n",
       "    .dataframe tbody tr th {\n",
       "        vertical-align: top;\n",
       "    }\n",
       "\n",
       "    .dataframe thead th {\n",
       "        text-align: right;\n",
       "    }\n",
       "</style>\n",
       "<table border=\"1\" class=\"dataframe\">\n",
       "  <thead>\n",
       "    <tr style=\"text-align: right;\">\n",
       "      <th></th>\n",
       "      <th>RI</th>\n",
       "      <th>Na</th>\n",
       "      <th>Mg</th>\n",
       "      <th>Al</th>\n",
       "      <th>Si</th>\n",
       "      <th>K</th>\n",
       "      <th>Ca</th>\n",
       "      <th>Ba</th>\n",
       "      <th>Fe</th>\n",
       "      <th>Type</th>\n",
       "    </tr>\n",
       "  </thead>\n",
       "  <tbody>\n",
       "    <tr>\n",
       "      <th>0</th>\n",
       "      <td>1.52101</td>\n",
       "      <td>13.64</td>\n",
       "      <td>4.49</td>\n",
       "      <td>1.10</td>\n",
       "      <td>71.78</td>\n",
       "      <td>0.06</td>\n",
       "      <td>8.75</td>\n",
       "      <td>0.00</td>\n",
       "      <td>0.0</td>\n",
       "      <td>1</td>\n",
       "    </tr>\n",
       "    <tr>\n",
       "      <th>1</th>\n",
       "      <td>1.51761</td>\n",
       "      <td>13.89</td>\n",
       "      <td>3.60</td>\n",
       "      <td>1.36</td>\n",
       "      <td>72.73</td>\n",
       "      <td>0.48</td>\n",
       "      <td>7.83</td>\n",
       "      <td>0.00</td>\n",
       "      <td>0.0</td>\n",
       "      <td>1</td>\n",
       "    </tr>\n",
       "    <tr>\n",
       "      <th>2</th>\n",
       "      <td>1.51618</td>\n",
       "      <td>13.53</td>\n",
       "      <td>3.55</td>\n",
       "      <td>1.54</td>\n",
       "      <td>72.99</td>\n",
       "      <td>0.39</td>\n",
       "      <td>7.78</td>\n",
       "      <td>0.00</td>\n",
       "      <td>0.0</td>\n",
       "      <td>1</td>\n",
       "    </tr>\n",
       "    <tr>\n",
       "      <th>3</th>\n",
       "      <td>1.51766</td>\n",
       "      <td>13.21</td>\n",
       "      <td>3.69</td>\n",
       "      <td>1.29</td>\n",
       "      <td>72.61</td>\n",
       "      <td>0.57</td>\n",
       "      <td>8.22</td>\n",
       "      <td>0.00</td>\n",
       "      <td>0.0</td>\n",
       "      <td>1</td>\n",
       "    </tr>\n",
       "    <tr>\n",
       "      <th>4</th>\n",
       "      <td>1.51742</td>\n",
       "      <td>13.27</td>\n",
       "      <td>3.62</td>\n",
       "      <td>1.24</td>\n",
       "      <td>73.08</td>\n",
       "      <td>0.55</td>\n",
       "      <td>8.07</td>\n",
       "      <td>0.00</td>\n",
       "      <td>0.0</td>\n",
       "      <td>1</td>\n",
       "    </tr>\n",
       "    <tr>\n",
       "      <th>...</th>\n",
       "      <td>...</td>\n",
       "      <td>...</td>\n",
       "      <td>...</td>\n",
       "      <td>...</td>\n",
       "      <td>...</td>\n",
       "      <td>...</td>\n",
       "      <td>...</td>\n",
       "      <td>...</td>\n",
       "      <td>...</td>\n",
       "      <td>...</td>\n",
       "    </tr>\n",
       "    <tr>\n",
       "      <th>209</th>\n",
       "      <td>1.51623</td>\n",
       "      <td>14.14</td>\n",
       "      <td>0.00</td>\n",
       "      <td>2.88</td>\n",
       "      <td>72.61</td>\n",
       "      <td>0.08</td>\n",
       "      <td>9.18</td>\n",
       "      <td>1.06</td>\n",
       "      <td>0.0</td>\n",
       "      <td>7</td>\n",
       "    </tr>\n",
       "    <tr>\n",
       "      <th>210</th>\n",
       "      <td>1.51685</td>\n",
       "      <td>14.92</td>\n",
       "      <td>0.00</td>\n",
       "      <td>1.99</td>\n",
       "      <td>73.06</td>\n",
       "      <td>0.00</td>\n",
       "      <td>8.40</td>\n",
       "      <td>1.59</td>\n",
       "      <td>0.0</td>\n",
       "      <td>7</td>\n",
       "    </tr>\n",
       "    <tr>\n",
       "      <th>211</th>\n",
       "      <td>1.52065</td>\n",
       "      <td>14.36</td>\n",
       "      <td>0.00</td>\n",
       "      <td>2.02</td>\n",
       "      <td>73.42</td>\n",
       "      <td>0.00</td>\n",
       "      <td>8.44</td>\n",
       "      <td>1.64</td>\n",
       "      <td>0.0</td>\n",
       "      <td>7</td>\n",
       "    </tr>\n",
       "    <tr>\n",
       "      <th>212</th>\n",
       "      <td>1.51651</td>\n",
       "      <td>14.38</td>\n",
       "      <td>0.00</td>\n",
       "      <td>1.94</td>\n",
       "      <td>73.61</td>\n",
       "      <td>0.00</td>\n",
       "      <td>8.48</td>\n",
       "      <td>1.57</td>\n",
       "      <td>0.0</td>\n",
       "      <td>7</td>\n",
       "    </tr>\n",
       "    <tr>\n",
       "      <th>213</th>\n",
       "      <td>1.51711</td>\n",
       "      <td>14.23</td>\n",
       "      <td>0.00</td>\n",
       "      <td>2.08</td>\n",
       "      <td>73.36</td>\n",
       "      <td>0.00</td>\n",
       "      <td>8.62</td>\n",
       "      <td>1.67</td>\n",
       "      <td>0.0</td>\n",
       "      <td>7</td>\n",
       "    </tr>\n",
       "  </tbody>\n",
       "</table>\n",
       "<p>214 rows × 10 columns</p>\n",
       "</div>"
      ],
      "text/plain": [
       "          RI     Na    Mg    Al     Si     K    Ca    Ba   Fe  Type\n",
       "0    1.52101  13.64  4.49  1.10  71.78  0.06  8.75  0.00  0.0     1\n",
       "1    1.51761  13.89  3.60  1.36  72.73  0.48  7.83  0.00  0.0     1\n",
       "2    1.51618  13.53  3.55  1.54  72.99  0.39  7.78  0.00  0.0     1\n",
       "3    1.51766  13.21  3.69  1.29  72.61  0.57  8.22  0.00  0.0     1\n",
       "4    1.51742  13.27  3.62  1.24  73.08  0.55  8.07  0.00  0.0     1\n",
       "..       ...    ...   ...   ...    ...   ...   ...   ...  ...   ...\n",
       "209  1.51623  14.14  0.00  2.88  72.61  0.08  9.18  1.06  0.0     7\n",
       "210  1.51685  14.92  0.00  1.99  73.06  0.00  8.40  1.59  0.0     7\n",
       "211  1.52065  14.36  0.00  2.02  73.42  0.00  8.44  1.64  0.0     7\n",
       "212  1.51651  14.38  0.00  1.94  73.61  0.00  8.48  1.57  0.0     7\n",
       "213  1.51711  14.23  0.00  2.08  73.36  0.00  8.62  1.67  0.0     7\n",
       "\n",
       "[214 rows x 10 columns]"
      ]
     },
     "execution_count": 3,
     "metadata": {},
     "output_type": "execute_result"
    }
   ],
   "source": [
    "data"
   ]
  },
  {
   "cell_type": "code",
   "execution_count": 4,
   "id": "7f7131a8",
   "metadata": {
    "ExecuteTime": {
     "end_time": "2023-04-28T16:58:48.362508Z",
     "start_time": "2023-04-28T16:58:48.349515Z"
    }
   },
   "outputs": [
    {
     "data": {
      "text/plain": [
       "214"
      ]
     },
     "execution_count": 4,
     "metadata": {},
     "output_type": "execute_result"
    }
   ],
   "source": [
    "len(data)"
   ]
  },
  {
   "cell_type": "code",
   "execution_count": 7,
   "id": "527fac3a",
   "metadata": {
    "ExecuteTime": {
     "end_time": "2023-04-28T16:59:45.130667Z",
     "start_time": "2023-04-28T16:59:45.051715Z"
    }
   },
   "outputs": [
    {
     "data": {
      "text/html": [
       "<div>\n",
       "<style scoped>\n",
       "    .dataframe tbody tr th:only-of-type {\n",
       "        vertical-align: middle;\n",
       "    }\n",
       "\n",
       "    .dataframe tbody tr th {\n",
       "        vertical-align: top;\n",
       "    }\n",
       "\n",
       "    .dataframe thead th {\n",
       "        text-align: right;\n",
       "    }\n",
       "</style>\n",
       "<table border=\"1\" class=\"dataframe\">\n",
       "  <thead>\n",
       "    <tr style=\"text-align: right;\">\n",
       "      <th></th>\n",
       "      <th>RI</th>\n",
       "      <th>Na</th>\n",
       "      <th>Mg</th>\n",
       "      <th>Al</th>\n",
       "      <th>Si</th>\n",
       "      <th>K</th>\n",
       "      <th>Ca</th>\n",
       "      <th>Ba</th>\n",
       "      <th>Fe</th>\n",
       "      <th>Type</th>\n",
       "    </tr>\n",
       "  </thead>\n",
       "  <tbody>\n",
       "    <tr>\n",
       "      <th>count</th>\n",
       "      <td>214.000000</td>\n",
       "      <td>214.000000</td>\n",
       "      <td>214.000000</td>\n",
       "      <td>214.000000</td>\n",
       "      <td>214.000000</td>\n",
       "      <td>214.000000</td>\n",
       "      <td>214.000000</td>\n",
       "      <td>214.000000</td>\n",
       "      <td>214.000000</td>\n",
       "      <td>214.000000</td>\n",
       "    </tr>\n",
       "    <tr>\n",
       "      <th>mean</th>\n",
       "      <td>1.518365</td>\n",
       "      <td>13.407850</td>\n",
       "      <td>2.684533</td>\n",
       "      <td>1.444907</td>\n",
       "      <td>72.650935</td>\n",
       "      <td>0.497056</td>\n",
       "      <td>8.956963</td>\n",
       "      <td>0.175047</td>\n",
       "      <td>0.057009</td>\n",
       "      <td>2.780374</td>\n",
       "    </tr>\n",
       "    <tr>\n",
       "      <th>std</th>\n",
       "      <td>0.003037</td>\n",
       "      <td>0.816604</td>\n",
       "      <td>1.442408</td>\n",
       "      <td>0.499270</td>\n",
       "      <td>0.774546</td>\n",
       "      <td>0.652192</td>\n",
       "      <td>1.423153</td>\n",
       "      <td>0.497219</td>\n",
       "      <td>0.097439</td>\n",
       "      <td>2.103739</td>\n",
       "    </tr>\n",
       "    <tr>\n",
       "      <th>min</th>\n",
       "      <td>1.511150</td>\n",
       "      <td>10.730000</td>\n",
       "      <td>0.000000</td>\n",
       "      <td>0.290000</td>\n",
       "      <td>69.810000</td>\n",
       "      <td>0.000000</td>\n",
       "      <td>5.430000</td>\n",
       "      <td>0.000000</td>\n",
       "      <td>0.000000</td>\n",
       "      <td>1.000000</td>\n",
       "    </tr>\n",
       "    <tr>\n",
       "      <th>25%</th>\n",
       "      <td>1.516522</td>\n",
       "      <td>12.907500</td>\n",
       "      <td>2.115000</td>\n",
       "      <td>1.190000</td>\n",
       "      <td>72.280000</td>\n",
       "      <td>0.122500</td>\n",
       "      <td>8.240000</td>\n",
       "      <td>0.000000</td>\n",
       "      <td>0.000000</td>\n",
       "      <td>1.000000</td>\n",
       "    </tr>\n",
       "    <tr>\n",
       "      <th>50%</th>\n",
       "      <td>1.517680</td>\n",
       "      <td>13.300000</td>\n",
       "      <td>3.480000</td>\n",
       "      <td>1.360000</td>\n",
       "      <td>72.790000</td>\n",
       "      <td>0.555000</td>\n",
       "      <td>8.600000</td>\n",
       "      <td>0.000000</td>\n",
       "      <td>0.000000</td>\n",
       "      <td>2.000000</td>\n",
       "    </tr>\n",
       "    <tr>\n",
       "      <th>75%</th>\n",
       "      <td>1.519157</td>\n",
       "      <td>13.825000</td>\n",
       "      <td>3.600000</td>\n",
       "      <td>1.630000</td>\n",
       "      <td>73.087500</td>\n",
       "      <td>0.610000</td>\n",
       "      <td>9.172500</td>\n",
       "      <td>0.000000</td>\n",
       "      <td>0.100000</td>\n",
       "      <td>3.000000</td>\n",
       "    </tr>\n",
       "    <tr>\n",
       "      <th>max</th>\n",
       "      <td>1.533930</td>\n",
       "      <td>17.380000</td>\n",
       "      <td>4.490000</td>\n",
       "      <td>3.500000</td>\n",
       "      <td>75.410000</td>\n",
       "      <td>6.210000</td>\n",
       "      <td>16.190000</td>\n",
       "      <td>3.150000</td>\n",
       "      <td>0.510000</td>\n",
       "      <td>7.000000</td>\n",
       "    </tr>\n",
       "  </tbody>\n",
       "</table>\n",
       "</div>"
      ],
      "text/plain": [
       "               RI          Na          Mg          Al          Si           K  \\\n",
       "count  214.000000  214.000000  214.000000  214.000000  214.000000  214.000000   \n",
       "mean     1.518365   13.407850    2.684533    1.444907   72.650935    0.497056   \n",
       "std      0.003037    0.816604    1.442408    0.499270    0.774546    0.652192   \n",
       "min      1.511150   10.730000    0.000000    0.290000   69.810000    0.000000   \n",
       "25%      1.516522   12.907500    2.115000    1.190000   72.280000    0.122500   \n",
       "50%      1.517680   13.300000    3.480000    1.360000   72.790000    0.555000   \n",
       "75%      1.519157   13.825000    3.600000    1.630000   73.087500    0.610000   \n",
       "max      1.533930   17.380000    4.490000    3.500000   75.410000    6.210000   \n",
       "\n",
       "               Ca          Ba          Fe        Type  \n",
       "count  214.000000  214.000000  214.000000  214.000000  \n",
       "mean     8.956963    0.175047    0.057009    2.780374  \n",
       "std      1.423153    0.497219    0.097439    2.103739  \n",
       "min      5.430000    0.000000    0.000000    1.000000  \n",
       "25%      8.240000    0.000000    0.000000    1.000000  \n",
       "50%      8.600000    0.000000    0.000000    2.000000  \n",
       "75%      9.172500    0.000000    0.100000    3.000000  \n",
       "max     16.190000    3.150000    0.510000    7.000000  "
      ]
     },
     "execution_count": 7,
     "metadata": {},
     "output_type": "execute_result"
    }
   ],
   "source": [
    "data.describe()"
   ]
  },
  {
   "cell_type": "code",
   "execution_count": 40,
   "id": "929c8964",
   "metadata": {
    "ExecuteTime": {
     "end_time": "2023-04-28T17:22:00.855705Z",
     "start_time": "2023-04-28T17:22:00.842716Z"
    }
   },
   "outputs": [],
   "source": [
    "#Replace_Zeroes\n",
    "zero_not_accepted =['Mg','K','Ba','Fe']\n",
    "for column in zero_not_accepted:\n",
    "    data[column]=data[column].replace(0,np.NaN)\n",
    "    mean=int(data[column].mean(skipna=True))\n",
    "  "
   ]
  },
  {
   "cell_type": "code",
   "execution_count": 41,
   "id": "6f7a444f",
   "metadata": {
    "ExecuteTime": {
     "end_time": "2023-04-28T17:22:05.878688Z",
     "start_time": "2023-04-28T17:22:05.827718Z"
    }
   },
   "outputs": [
    {
     "data": {
      "text/html": [
       "<div>\n",
       "<style scoped>\n",
       "    .dataframe tbody tr th:only-of-type {\n",
       "        vertical-align: middle;\n",
       "    }\n",
       "\n",
       "    .dataframe tbody tr th {\n",
       "        vertical-align: top;\n",
       "    }\n",
       "\n",
       "    .dataframe thead th {\n",
       "        text-align: right;\n",
       "    }\n",
       "</style>\n",
       "<table border=\"1\" class=\"dataframe\">\n",
       "  <thead>\n",
       "    <tr style=\"text-align: right;\">\n",
       "      <th></th>\n",
       "      <th>RI</th>\n",
       "      <th>Na</th>\n",
       "      <th>Mg</th>\n",
       "      <th>Al</th>\n",
       "      <th>Si</th>\n",
       "      <th>K</th>\n",
       "      <th>Ca</th>\n",
       "      <th>Ba</th>\n",
       "      <th>Fe</th>\n",
       "      <th>Type</th>\n",
       "    </tr>\n",
       "  </thead>\n",
       "  <tbody>\n",
       "    <tr>\n",
       "      <th>0</th>\n",
       "      <td>1.52101</td>\n",
       "      <td>13.64</td>\n",
       "      <td>4.49</td>\n",
       "      <td>1.10</td>\n",
       "      <td>71.78</td>\n",
       "      <td>0.06</td>\n",
       "      <td>8.75</td>\n",
       "      <td>NaN</td>\n",
       "      <td>NaN</td>\n",
       "      <td>1</td>\n",
       "    </tr>\n",
       "    <tr>\n",
       "      <th>1</th>\n",
       "      <td>1.51761</td>\n",
       "      <td>13.89</td>\n",
       "      <td>3.60</td>\n",
       "      <td>1.36</td>\n",
       "      <td>72.73</td>\n",
       "      <td>0.48</td>\n",
       "      <td>7.83</td>\n",
       "      <td>NaN</td>\n",
       "      <td>NaN</td>\n",
       "      <td>1</td>\n",
       "    </tr>\n",
       "    <tr>\n",
       "      <th>2</th>\n",
       "      <td>1.51618</td>\n",
       "      <td>13.53</td>\n",
       "      <td>3.55</td>\n",
       "      <td>1.54</td>\n",
       "      <td>72.99</td>\n",
       "      <td>0.39</td>\n",
       "      <td>7.78</td>\n",
       "      <td>NaN</td>\n",
       "      <td>NaN</td>\n",
       "      <td>1</td>\n",
       "    </tr>\n",
       "    <tr>\n",
       "      <th>3</th>\n",
       "      <td>1.51766</td>\n",
       "      <td>13.21</td>\n",
       "      <td>3.69</td>\n",
       "      <td>1.29</td>\n",
       "      <td>72.61</td>\n",
       "      <td>0.57</td>\n",
       "      <td>8.22</td>\n",
       "      <td>NaN</td>\n",
       "      <td>NaN</td>\n",
       "      <td>1</td>\n",
       "    </tr>\n",
       "    <tr>\n",
       "      <th>4</th>\n",
       "      <td>1.51742</td>\n",
       "      <td>13.27</td>\n",
       "      <td>3.62</td>\n",
       "      <td>1.24</td>\n",
       "      <td>73.08</td>\n",
       "      <td>0.55</td>\n",
       "      <td>8.07</td>\n",
       "      <td>NaN</td>\n",
       "      <td>NaN</td>\n",
       "      <td>1</td>\n",
       "    </tr>\n",
       "    <tr>\n",
       "      <th>...</th>\n",
       "      <td>...</td>\n",
       "      <td>...</td>\n",
       "      <td>...</td>\n",
       "      <td>...</td>\n",
       "      <td>...</td>\n",
       "      <td>...</td>\n",
       "      <td>...</td>\n",
       "      <td>...</td>\n",
       "      <td>...</td>\n",
       "      <td>...</td>\n",
       "    </tr>\n",
       "    <tr>\n",
       "      <th>209</th>\n",
       "      <td>1.51623</td>\n",
       "      <td>14.14</td>\n",
       "      <td>3.00</td>\n",
       "      <td>2.88</td>\n",
       "      <td>72.61</td>\n",
       "      <td>0.08</td>\n",
       "      <td>9.18</td>\n",
       "      <td>1.06</td>\n",
       "      <td>NaN</td>\n",
       "      <td>7</td>\n",
       "    </tr>\n",
       "    <tr>\n",
       "      <th>210</th>\n",
       "      <td>1.51685</td>\n",
       "      <td>14.92</td>\n",
       "      <td>3.00</td>\n",
       "      <td>1.99</td>\n",
       "      <td>73.06</td>\n",
       "      <td>NaN</td>\n",
       "      <td>8.40</td>\n",
       "      <td>1.59</td>\n",
       "      <td>NaN</td>\n",
       "      <td>7</td>\n",
       "    </tr>\n",
       "    <tr>\n",
       "      <th>211</th>\n",
       "      <td>1.52065</td>\n",
       "      <td>14.36</td>\n",
       "      <td>3.00</td>\n",
       "      <td>2.02</td>\n",
       "      <td>73.42</td>\n",
       "      <td>NaN</td>\n",
       "      <td>8.44</td>\n",
       "      <td>1.64</td>\n",
       "      <td>NaN</td>\n",
       "      <td>7</td>\n",
       "    </tr>\n",
       "    <tr>\n",
       "      <th>212</th>\n",
       "      <td>1.51651</td>\n",
       "      <td>14.38</td>\n",
       "      <td>3.00</td>\n",
       "      <td>1.94</td>\n",
       "      <td>73.61</td>\n",
       "      <td>NaN</td>\n",
       "      <td>8.48</td>\n",
       "      <td>1.57</td>\n",
       "      <td>NaN</td>\n",
       "      <td>7</td>\n",
       "    </tr>\n",
       "    <tr>\n",
       "      <th>213</th>\n",
       "      <td>1.51711</td>\n",
       "      <td>14.23</td>\n",
       "      <td>3.00</td>\n",
       "      <td>2.08</td>\n",
       "      <td>73.36</td>\n",
       "      <td>NaN</td>\n",
       "      <td>8.62</td>\n",
       "      <td>1.67</td>\n",
       "      <td>NaN</td>\n",
       "      <td>7</td>\n",
       "    </tr>\n",
       "  </tbody>\n",
       "</table>\n",
       "<p>214 rows × 10 columns</p>\n",
       "</div>"
      ],
      "text/plain": [
       "          RI     Na    Mg    Al     Si     K    Ca    Ba  Fe  Type\n",
       "0    1.52101  13.64  4.49  1.10  71.78  0.06  8.75   NaN NaN     1\n",
       "1    1.51761  13.89  3.60  1.36  72.73  0.48  7.83   NaN NaN     1\n",
       "2    1.51618  13.53  3.55  1.54  72.99  0.39  7.78   NaN NaN     1\n",
       "3    1.51766  13.21  3.69  1.29  72.61  0.57  8.22   NaN NaN     1\n",
       "4    1.51742  13.27  3.62  1.24  73.08  0.55  8.07   NaN NaN     1\n",
       "..       ...    ...   ...   ...    ...   ...   ...   ...  ..   ...\n",
       "209  1.51623  14.14  3.00  2.88  72.61  0.08  9.18  1.06 NaN     7\n",
       "210  1.51685  14.92  3.00  1.99  73.06   NaN  8.40  1.59 NaN     7\n",
       "211  1.52065  14.36  3.00  2.02  73.42   NaN  8.44  1.64 NaN     7\n",
       "212  1.51651  14.38  3.00  1.94  73.61   NaN  8.48  1.57 NaN     7\n",
       "213  1.51711  14.23  3.00  2.08  73.36   NaN  8.62  1.67 NaN     7\n",
       "\n",
       "[214 rows x 10 columns]"
      ]
     },
     "execution_count": 41,
     "metadata": {},
     "output_type": "execute_result"
    }
   ],
   "source": [
    "data"
   ]
  },
  {
   "cell_type": "code",
   "execution_count": 42,
   "id": "a7dace6c",
   "metadata": {
    "ExecuteTime": {
     "end_time": "2023-04-28T17:22:08.954180Z",
     "start_time": "2023-04-28T17:22:08.944187Z"
    }
   },
   "outputs": [
    {
     "data": {
      "text/plain": [
       "3.2733177570093464"
      ]
     },
     "execution_count": 42,
     "metadata": {},
     "output_type": "execute_result"
    }
   ],
   "source": [
    "mean=data['Mg'].mean()\n",
    "mean"
   ]
  },
  {
   "cell_type": "code",
   "execution_count": 43,
   "id": "af51f9e2",
   "metadata": {
    "ExecuteTime": {
     "end_time": "2023-04-28T17:22:11.481988Z",
     "start_time": "2023-04-28T17:22:11.471994Z"
    }
   },
   "outputs": [],
   "source": [
    "data['Mg']=data['Mg'].fillna(mean)"
   ]
  },
  {
   "cell_type": "code",
   "execution_count": 44,
   "id": "2036e787",
   "metadata": {
    "ExecuteTime": {
     "end_time": "2023-04-28T17:22:13.777040Z",
     "start_time": "2023-04-28T17:22:13.749058Z"
    }
   },
   "outputs": [
    {
     "data": {
      "text/plain": [
       "count    214.000000\n",
       "mean       3.273318\n",
       "std        0.575175\n",
       "min        0.330000\n",
       "25%        3.000000\n",
       "50%        3.480000\n",
       "75%        3.600000\n",
       "max        4.490000\n",
       "Name: Mg, dtype: float64"
      ]
     },
     "execution_count": 44,
     "metadata": {},
     "output_type": "execute_result"
    }
   ],
   "source": [
    "data['Mg'].describe()"
   ]
  },
  {
   "cell_type": "code",
   "execution_count": 45,
   "id": "014a2016",
   "metadata": {
    "ExecuteTime": {
     "end_time": "2023-04-28T17:22:16.056292Z",
     "start_time": "2023-04-28T17:22:16.041303Z"
    }
   },
   "outputs": [
    {
     "data": {
      "text/plain": [
       "0.5780978260869564"
      ]
     },
     "execution_count": 45,
     "metadata": {},
     "output_type": "execute_result"
    }
   ],
   "source": [
    "mean=data['K'].mean()\n",
    "mean"
   ]
  },
  {
   "cell_type": "code",
   "execution_count": 46,
   "id": "7dd9d5f1",
   "metadata": {
    "ExecuteTime": {
     "end_time": "2023-04-28T17:22:18.139425Z",
     "start_time": "2023-04-28T17:22:18.130430Z"
    }
   },
   "outputs": [],
   "source": [
    "data['K']=data['K'].fillna(mean)"
   ]
  },
  {
   "cell_type": "code",
   "execution_count": 47,
   "id": "2fa67774",
   "metadata": {
    "ExecuteTime": {
     "end_time": "2023-04-28T17:22:20.231912Z",
     "start_time": "2023-04-28T17:22:20.222915Z"
    }
   },
   "outputs": [
    {
     "data": {
      "text/plain": [
       "0.9857894736842105"
      ]
     },
     "execution_count": 47,
     "metadata": {},
     "output_type": "execute_result"
    }
   ],
   "source": [
    "mean=data['Ba'].mean()\n",
    "mean"
   ]
  },
  {
   "cell_type": "code",
   "execution_count": 48,
   "id": "0f86a3d5",
   "metadata": {
    "ExecuteTime": {
     "end_time": "2023-04-28T17:22:22.483808Z",
     "start_time": "2023-04-28T17:22:22.470817Z"
    }
   },
   "outputs": [],
   "source": [
    "data['Ba']=data['Ba'].fillna(mean)"
   ]
  },
  {
   "cell_type": "code",
   "execution_count": 49,
   "id": "c8e78890",
   "metadata": {
    "ExecuteTime": {
     "end_time": "2023-04-28T17:22:25.218208Z",
     "start_time": "2023-04-28T17:22:25.210213Z"
    }
   },
   "outputs": [
    {
     "data": {
      "text/plain": [
       "0.17428571428571424"
      ]
     },
     "execution_count": 49,
     "metadata": {},
     "output_type": "execute_result"
    }
   ],
   "source": [
    "mean=data['Fe'].mean()\n",
    "mean"
   ]
  },
  {
   "cell_type": "code",
   "execution_count": 50,
   "id": "271ef4ee",
   "metadata": {
    "ExecuteTime": {
     "end_time": "2023-04-28T17:22:27.761675Z",
     "start_time": "2023-04-28T17:22:27.740691Z"
    }
   },
   "outputs": [],
   "source": [
    "data['Fe']=data['Fe'].fillna(mean)"
   ]
  },
  {
   "cell_type": "code",
   "execution_count": 51,
   "id": "286e91eb",
   "metadata": {
    "ExecuteTime": {
     "end_time": "2023-04-28T17:22:31.014446Z",
     "start_time": "2023-04-28T17:22:30.956482Z"
    }
   },
   "outputs": [
    {
     "data": {
      "text/html": [
       "<div>\n",
       "<style scoped>\n",
       "    .dataframe tbody tr th:only-of-type {\n",
       "        vertical-align: middle;\n",
       "    }\n",
       "\n",
       "    .dataframe tbody tr th {\n",
       "        vertical-align: top;\n",
       "    }\n",
       "\n",
       "    .dataframe thead th {\n",
       "        text-align: right;\n",
       "    }\n",
       "</style>\n",
       "<table border=\"1\" class=\"dataframe\">\n",
       "  <thead>\n",
       "    <tr style=\"text-align: right;\">\n",
       "      <th></th>\n",
       "      <th>RI</th>\n",
       "      <th>Na</th>\n",
       "      <th>Mg</th>\n",
       "      <th>Al</th>\n",
       "      <th>Si</th>\n",
       "      <th>K</th>\n",
       "      <th>Ca</th>\n",
       "      <th>Ba</th>\n",
       "      <th>Fe</th>\n",
       "      <th>Type</th>\n",
       "    </tr>\n",
       "  </thead>\n",
       "  <tbody>\n",
       "    <tr>\n",
       "      <th>0</th>\n",
       "      <td>1.52101</td>\n",
       "      <td>13.64</td>\n",
       "      <td>4.49</td>\n",
       "      <td>1.10</td>\n",
       "      <td>71.78</td>\n",
       "      <td>0.060000</td>\n",
       "      <td>8.75</td>\n",
       "      <td>0.985789</td>\n",
       "      <td>0.174286</td>\n",
       "      <td>1</td>\n",
       "    </tr>\n",
       "    <tr>\n",
       "      <th>1</th>\n",
       "      <td>1.51761</td>\n",
       "      <td>13.89</td>\n",
       "      <td>3.60</td>\n",
       "      <td>1.36</td>\n",
       "      <td>72.73</td>\n",
       "      <td>0.480000</td>\n",
       "      <td>7.83</td>\n",
       "      <td>0.985789</td>\n",
       "      <td>0.174286</td>\n",
       "      <td>1</td>\n",
       "    </tr>\n",
       "    <tr>\n",
       "      <th>2</th>\n",
       "      <td>1.51618</td>\n",
       "      <td>13.53</td>\n",
       "      <td>3.55</td>\n",
       "      <td>1.54</td>\n",
       "      <td>72.99</td>\n",
       "      <td>0.390000</td>\n",
       "      <td>7.78</td>\n",
       "      <td>0.985789</td>\n",
       "      <td>0.174286</td>\n",
       "      <td>1</td>\n",
       "    </tr>\n",
       "    <tr>\n",
       "      <th>3</th>\n",
       "      <td>1.51766</td>\n",
       "      <td>13.21</td>\n",
       "      <td>3.69</td>\n",
       "      <td>1.29</td>\n",
       "      <td>72.61</td>\n",
       "      <td>0.570000</td>\n",
       "      <td>8.22</td>\n",
       "      <td>0.985789</td>\n",
       "      <td>0.174286</td>\n",
       "      <td>1</td>\n",
       "    </tr>\n",
       "    <tr>\n",
       "      <th>4</th>\n",
       "      <td>1.51742</td>\n",
       "      <td>13.27</td>\n",
       "      <td>3.62</td>\n",
       "      <td>1.24</td>\n",
       "      <td>73.08</td>\n",
       "      <td>0.550000</td>\n",
       "      <td>8.07</td>\n",
       "      <td>0.985789</td>\n",
       "      <td>0.174286</td>\n",
       "      <td>1</td>\n",
       "    </tr>\n",
       "    <tr>\n",
       "      <th>...</th>\n",
       "      <td>...</td>\n",
       "      <td>...</td>\n",
       "      <td>...</td>\n",
       "      <td>...</td>\n",
       "      <td>...</td>\n",
       "      <td>...</td>\n",
       "      <td>...</td>\n",
       "      <td>...</td>\n",
       "      <td>...</td>\n",
       "      <td>...</td>\n",
       "    </tr>\n",
       "    <tr>\n",
       "      <th>209</th>\n",
       "      <td>1.51623</td>\n",
       "      <td>14.14</td>\n",
       "      <td>3.00</td>\n",
       "      <td>2.88</td>\n",
       "      <td>72.61</td>\n",
       "      <td>0.080000</td>\n",
       "      <td>9.18</td>\n",
       "      <td>1.060000</td>\n",
       "      <td>0.174286</td>\n",
       "      <td>7</td>\n",
       "    </tr>\n",
       "    <tr>\n",
       "      <th>210</th>\n",
       "      <td>1.51685</td>\n",
       "      <td>14.92</td>\n",
       "      <td>3.00</td>\n",
       "      <td>1.99</td>\n",
       "      <td>73.06</td>\n",
       "      <td>0.578098</td>\n",
       "      <td>8.40</td>\n",
       "      <td>1.590000</td>\n",
       "      <td>0.174286</td>\n",
       "      <td>7</td>\n",
       "    </tr>\n",
       "    <tr>\n",
       "      <th>211</th>\n",
       "      <td>1.52065</td>\n",
       "      <td>14.36</td>\n",
       "      <td>3.00</td>\n",
       "      <td>2.02</td>\n",
       "      <td>73.42</td>\n",
       "      <td>0.578098</td>\n",
       "      <td>8.44</td>\n",
       "      <td>1.640000</td>\n",
       "      <td>0.174286</td>\n",
       "      <td>7</td>\n",
       "    </tr>\n",
       "    <tr>\n",
       "      <th>212</th>\n",
       "      <td>1.51651</td>\n",
       "      <td>14.38</td>\n",
       "      <td>3.00</td>\n",
       "      <td>1.94</td>\n",
       "      <td>73.61</td>\n",
       "      <td>0.578098</td>\n",
       "      <td>8.48</td>\n",
       "      <td>1.570000</td>\n",
       "      <td>0.174286</td>\n",
       "      <td>7</td>\n",
       "    </tr>\n",
       "    <tr>\n",
       "      <th>213</th>\n",
       "      <td>1.51711</td>\n",
       "      <td>14.23</td>\n",
       "      <td>3.00</td>\n",
       "      <td>2.08</td>\n",
       "      <td>73.36</td>\n",
       "      <td>0.578098</td>\n",
       "      <td>8.62</td>\n",
       "      <td>1.670000</td>\n",
       "      <td>0.174286</td>\n",
       "      <td>7</td>\n",
       "    </tr>\n",
       "  </tbody>\n",
       "</table>\n",
       "<p>214 rows × 10 columns</p>\n",
       "</div>"
      ],
      "text/plain": [
       "          RI     Na    Mg    Al     Si         K    Ca        Ba        Fe  \\\n",
       "0    1.52101  13.64  4.49  1.10  71.78  0.060000  8.75  0.985789  0.174286   \n",
       "1    1.51761  13.89  3.60  1.36  72.73  0.480000  7.83  0.985789  0.174286   \n",
       "2    1.51618  13.53  3.55  1.54  72.99  0.390000  7.78  0.985789  0.174286   \n",
       "3    1.51766  13.21  3.69  1.29  72.61  0.570000  8.22  0.985789  0.174286   \n",
       "4    1.51742  13.27  3.62  1.24  73.08  0.550000  8.07  0.985789  0.174286   \n",
       "..       ...    ...   ...   ...    ...       ...   ...       ...       ...   \n",
       "209  1.51623  14.14  3.00  2.88  72.61  0.080000  9.18  1.060000  0.174286   \n",
       "210  1.51685  14.92  3.00  1.99  73.06  0.578098  8.40  1.590000  0.174286   \n",
       "211  1.52065  14.36  3.00  2.02  73.42  0.578098  8.44  1.640000  0.174286   \n",
       "212  1.51651  14.38  3.00  1.94  73.61  0.578098  8.48  1.570000  0.174286   \n",
       "213  1.51711  14.23  3.00  2.08  73.36  0.578098  8.62  1.670000  0.174286   \n",
       "\n",
       "     Type  \n",
       "0       1  \n",
       "1       1  \n",
       "2       1  \n",
       "3       1  \n",
       "4       1  \n",
       "..    ...  \n",
       "209     7  \n",
       "210     7  \n",
       "211     7  \n",
       "212     7  \n",
       "213     7  \n",
       "\n",
       "[214 rows x 10 columns]"
      ]
     },
     "execution_count": 51,
     "metadata": {},
     "output_type": "execute_result"
    }
   ],
   "source": [
    "data"
   ]
  },
  {
   "cell_type": "code",
   "execution_count": 69,
   "id": "025bcf93",
   "metadata": {
    "ExecuteTime": {
     "end_time": "2023-04-28T17:47:02.243455Z",
     "start_time": "2023-04-28T17:47:02.228467Z"
    }
   },
   "outputs": [],
   "source": [
    "array = data.values\n",
    "X=array[:,0:9]\n",
    "Y=array[:,9]\n"
   ]
  },
  {
   "cell_type": "code",
   "execution_count": 67,
   "id": "383e0804",
   "metadata": {
    "ExecuteTime": {
     "end_time": "2023-04-28T17:46:30.986695Z",
     "start_time": "2023-04-28T17:46:30.970704Z"
    }
   },
   "outputs": [
    {
     "data": {
      "text/plain": [
       "(214, 9)"
      ]
     },
     "execution_count": 67,
     "metadata": {},
     "output_type": "execute_result"
    }
   ],
   "source": [
    "X.shape"
   ]
  },
  {
   "cell_type": "code",
   "execution_count": 71,
   "id": "341cf10c",
   "metadata": {
    "ExecuteTime": {
     "end_time": "2023-04-28T17:47:32.519359Z",
     "start_time": "2023-04-28T17:47:32.504371Z"
    }
   },
   "outputs": [
    {
     "data": {
      "text/plain": [
       "(214,)"
      ]
     },
     "execution_count": 71,
     "metadata": {},
     "output_type": "execute_result"
    }
   ],
   "source": [
    "Y.shape"
   ]
  },
  {
   "cell_type": "code",
   "execution_count": 72,
   "id": "44f8c6b2",
   "metadata": {
    "ExecuteTime": {
     "end_time": "2023-04-28T17:47:46.987632Z",
     "start_time": "2023-04-28T17:47:46.972642Z"
    }
   },
   "outputs": [],
   "source": [
    "scaler=StandardScaler()\n",
    "\n",
    "scaler.fit(X)\n",
    "X = scaler.transform(X)"
   ]
  },
  {
   "cell_type": "code",
   "execution_count": 74,
   "id": "bc2e9ae5",
   "metadata": {
    "ExecuteTime": {
     "end_time": "2023-04-28T17:50:00.000556Z",
     "start_time": "2023-04-28T17:49:59.985567Z"
    }
   },
   "outputs": [],
   "source": [
    "from sklearn.model_selection import train_test_split\n",
    "X_train,X_test,Y_train,Y_test=train_test_split(X,Y,test_size=0.2,random_state=10)"
   ]
  },
  {
   "cell_type": "code",
   "execution_count": 77,
   "id": "f17c28a1",
   "metadata": {
    "ExecuteTime": {
     "end_time": "2023-04-28T17:51:58.762642Z",
     "start_time": "2023-04-28T17:51:58.754648Z"
    }
   },
   "outputs": [
    {
     "data": {
      "text/plain": [
       "13"
      ]
     },
     "execution_count": 77,
     "metadata": {},
     "output_type": "execute_result"
    }
   ],
   "source": [
    "int(np.sqrt(len(X_train)))"
   ]
  },
  {
   "cell_type": "code",
   "execution_count": 78,
   "id": "c778430c",
   "metadata": {
    "ExecuteTime": {
     "end_time": "2023-04-28T17:52:11.952414Z",
     "start_time": "2023-04-28T17:52:11.936424Z"
    }
   },
   "outputs": [],
   "source": [
    "model_KNN=KNeighborsClassifier(n_neighbors=int(np.sqrt(len(X_train))),\n",
    "                              metric='euclidean')"
   ]
  },
  {
   "cell_type": "code",
   "execution_count": 79,
   "id": "888611d1",
   "metadata": {
    "ExecuteTime": {
     "end_time": "2023-04-28T17:52:24.226857Z",
     "start_time": "2023-04-28T17:52:24.213862Z"
    }
   },
   "outputs": [
    {
     "data": {
      "text/html": [
       "<style>#sk-container-id-1 {color: black;background-color: white;}#sk-container-id-1 pre{padding: 0;}#sk-container-id-1 div.sk-toggleable {background-color: white;}#sk-container-id-1 label.sk-toggleable__label {cursor: pointer;display: block;width: 100%;margin-bottom: 0;padding: 0.3em;box-sizing: border-box;text-align: center;}#sk-container-id-1 label.sk-toggleable__label-arrow:before {content: \"▸\";float: left;margin-right: 0.25em;color: #696969;}#sk-container-id-1 label.sk-toggleable__label-arrow:hover:before {color: black;}#sk-container-id-1 div.sk-estimator:hover label.sk-toggleable__label-arrow:before {color: black;}#sk-container-id-1 div.sk-toggleable__content {max-height: 0;max-width: 0;overflow: hidden;text-align: left;background-color: #f0f8ff;}#sk-container-id-1 div.sk-toggleable__content pre {margin: 0.2em;color: black;border-radius: 0.25em;background-color: #f0f8ff;}#sk-container-id-1 input.sk-toggleable__control:checked~div.sk-toggleable__content {max-height: 200px;max-width: 100%;overflow: auto;}#sk-container-id-1 input.sk-toggleable__control:checked~label.sk-toggleable__label-arrow:before {content: \"▾\";}#sk-container-id-1 div.sk-estimator input.sk-toggleable__control:checked~label.sk-toggleable__label {background-color: #d4ebff;}#sk-container-id-1 div.sk-label input.sk-toggleable__control:checked~label.sk-toggleable__label {background-color: #d4ebff;}#sk-container-id-1 input.sk-hidden--visually {border: 0;clip: rect(1px 1px 1px 1px);clip: rect(1px, 1px, 1px, 1px);height: 1px;margin: -1px;overflow: hidden;padding: 0;position: absolute;width: 1px;}#sk-container-id-1 div.sk-estimator {font-family: monospace;background-color: #f0f8ff;border: 1px dotted black;border-radius: 0.25em;box-sizing: border-box;margin-bottom: 0.5em;}#sk-container-id-1 div.sk-estimator:hover {background-color: #d4ebff;}#sk-container-id-1 div.sk-parallel-item::after {content: \"\";width: 100%;border-bottom: 1px solid gray;flex-grow: 1;}#sk-container-id-1 div.sk-label:hover label.sk-toggleable__label {background-color: #d4ebff;}#sk-container-id-1 div.sk-serial::before {content: \"\";position: absolute;border-left: 1px solid gray;box-sizing: border-box;top: 0;bottom: 0;left: 50%;z-index: 0;}#sk-container-id-1 div.sk-serial {display: flex;flex-direction: column;align-items: center;background-color: white;padding-right: 0.2em;padding-left: 0.2em;position: relative;}#sk-container-id-1 div.sk-item {position: relative;z-index: 1;}#sk-container-id-1 div.sk-parallel {display: flex;align-items: stretch;justify-content: center;background-color: white;position: relative;}#sk-container-id-1 div.sk-item::before, #sk-container-id-1 div.sk-parallel-item::before {content: \"\";position: absolute;border-left: 1px solid gray;box-sizing: border-box;top: 0;bottom: 0;left: 50%;z-index: -1;}#sk-container-id-1 div.sk-parallel-item {display: flex;flex-direction: column;z-index: 1;position: relative;background-color: white;}#sk-container-id-1 div.sk-parallel-item:first-child::after {align-self: flex-end;width: 50%;}#sk-container-id-1 div.sk-parallel-item:last-child::after {align-self: flex-start;width: 50%;}#sk-container-id-1 div.sk-parallel-item:only-child::after {width: 0;}#sk-container-id-1 div.sk-dashed-wrapped {border: 1px dashed gray;margin: 0 0.4em 0.5em 0.4em;box-sizing: border-box;padding-bottom: 0.4em;background-color: white;}#sk-container-id-1 div.sk-label label {font-family: monospace;font-weight: bold;display: inline-block;line-height: 1.2em;}#sk-container-id-1 div.sk-label-container {text-align: center;}#sk-container-id-1 div.sk-container {/* jupyter's `normalize.less` sets `[hidden] { display: none; }` but bootstrap.min.css set `[hidden] { display: none !important; }` so we also need the `!important` here to be able to override the default hidden behavior on the sphinx rendered scikit-learn.org. See: https://github.com/scikit-learn/scikit-learn/issues/21755 */display: inline-block !important;position: relative;}#sk-container-id-1 div.sk-text-repr-fallback {display: none;}</style><div id=\"sk-container-id-1\" class=\"sk-top-container\"><div class=\"sk-text-repr-fallback\"><pre>KNeighborsClassifier(metric=&#x27;euclidean&#x27;, n_neighbors=13)</pre><b>In a Jupyter environment, please rerun this cell to show the HTML representation or trust the notebook. <br />On GitHub, the HTML representation is unable to render, please try loading this page with nbviewer.org.</b></div><div class=\"sk-container\" hidden><div class=\"sk-item\"><div class=\"sk-estimator sk-toggleable\"><input class=\"sk-toggleable__control sk-hidden--visually\" id=\"sk-estimator-id-1\" type=\"checkbox\" checked><label for=\"sk-estimator-id-1\" class=\"sk-toggleable__label sk-toggleable__label-arrow\">KNeighborsClassifier</label><div class=\"sk-toggleable__content\"><pre>KNeighborsClassifier(metric=&#x27;euclidean&#x27;, n_neighbors=13)</pre></div></div></div></div></div>"
      ],
      "text/plain": [
       "KNeighborsClassifier(metric='euclidean', n_neighbors=13)"
      ]
     },
     "execution_count": 79,
     "metadata": {},
     "output_type": "execute_result"
    }
   ],
   "source": [
    "model_KNN.fit(X_train,Y_train)"
   ]
  },
  {
   "cell_type": "code",
   "execution_count": 80,
   "id": "eb41fe4d",
   "metadata": {
    "ExecuteTime": {
     "end_time": "2023-04-28T17:52:31.764661Z",
     "start_time": "2023-04-28T17:52:31.735681Z"
    }
   },
   "outputs": [
    {
     "data": {
      "text/plain": [
       "array([[ 3.21668863e-01,  2.84953261e-01,  4.64741385e-01,\n",
       "        -1.39510958e+00, -1.20944523e-03, -6.75508392e-01,\n",
       "        -4.71626023e-02, -2.58975816e+00,  1.24992530e+00],\n",
       "       [ 2.46156264e-02, -1.93754452e-01,  8.48130633e-01,\n",
       "        -2.50765108e-01, -3.24736045e-01,  3.07328659e-03,\n",
       "        -3.78189437e-01, -3.44011168e-16,  0.00000000e+00],\n",
       "       [ 2.10728887e+00, -2.40317467e+00, -4.76304951e-01,\n",
       "         8.73503150e-01, -5.96498389e-01,  3.74677539e-01,\n",
       "         3.01659640e+00, -3.44011168e-16,  3.15198554e+00],\n",
       "       [-5.49687297e-01, -2.06029009e-01,  5.17021737e-01,\n",
       "        -1.30307795e-01,  6.34958747e-02, -2.92401267e-02,\n",
       "        -3.64103189e-01, -3.44011168e-16, -1.41295904e+00],\n",
       "       [ 1.52968536e+00, -1.20107111e-01,  5.34448521e-01,\n",
       "        -1.25457605e+00, -8.55319668e-01, -7.40135218e-01,\n",
       "         8.54357288e-01, -3.44011168e-16, -2.74440121e+00],\n",
       "       [ 8.06855816e-01,  4.56797056e-01, -1.73103340e+00,\n",
       "        -2.99267001e-02, -8.55319668e-01, -1.42337073e-01,\n",
       "         6.28977316e-01, -3.44011168e-16, -8.15168675e-02],\n",
       "       [-3.35148849e-01, -4.76069257e-01,  4.64741385e-01,\n",
       "         4.92054991e-01,  1.02319067e-01, -6.15535399e-02,\n",
       "        -3.64103189e-01, -3.44011168e-16, -1.98357711e+00],\n",
       "       [ 9.32278293e-01, -5.37442041e-01, -5.12925628e+00,\n",
       "         1.30683051e-01,  9.56429290e-01, -7.23978511e-01,\n",
       "         1.62910094e+00, -3.44011168e-16,  2.01074940e+00],\n",
       "       [ 2.74100244e+00,  7.14562748e-01,  7.43569929e-01,\n",
       "        -1.47541446e+00, -1.39884436e+00, -9.01702284e-01,\n",
       "         6.07847943e-01, -3.44011168e-16, -1.41295904e+00],\n",
       "       [-6.38803268e-01, -1.53168114e+00,  4.29887817e-01,\n",
       "        -1.90536451e-01,  3.09376090e-01, -1.30834200e-02,\n",
       "        -3.00715072e-01, -3.44011168e-16,  0.00000000e+00],\n",
       "       [ 1.28874218e+00,  9.35504770e-01,  9.35264553e-01,\n",
       "        -1.33488093e+00, -1.68354776e+00, -3.58750954e-16,\n",
       "         5.16287329e-01, -3.44011168e-16,  0.00000000e+00],\n",
       "       [ 7.63948126e-01,  1.74482251e-01, -2.06214230e+00,\n",
       "         4.51902553e-01, -6.09439453e-01, -7.77102465e-02,\n",
       "         4.31769840e-01, -2.21792890e+00, -8.15168675e-02],\n",
       "       [ 2.25951709e-01,  2.35855034e-01,  6.04155657e-01,\n",
       "        -6.72365705e-01, -1.41505092e-02, -7.07821805e-01,\n",
       "        -1.38723216e-01, -3.44011168e-16,  0.00000000e+00],\n",
       "       [-7.04815098e-01,  9.72328440e-01, -4.76304951e-01,\n",
       "         2.70043907e+00,  1.04701674e+00, -8.69388871e-01,\n",
       "         5.84842599e-02, -1.81511387e+00, -1.60316506e+00],\n",
       "       [-2.72437610e-01,  8.85603534e-02,  8.13277065e-01,\n",
       "        -5.51908391e-01,  4.38786730e-01,  1.92299932e-02,\n",
       "        -6.52871279e-01, -3.44011168e-16,  0.00000000e+00],\n",
       "       [-5.36484931e-01, -7.58384063e-01,  4.29887817e-01,\n",
       "         1.90911708e-01,  9.17606098e-01,  1.32326940e-01,\n",
       "        -7.44431893e-01, -3.44011168e-16,  0.00000000e+00],\n",
       "       [-1.77420675e+00,  1.21781957e+00, -2.67207974e+00,\n",
       "         1.90911708e-01,  2.45759271e+00, -3.58750954e-16,\n",
       "        -9.62768741e-01, -3.44011168e-16,  0.00000000e+00],\n",
       "       [-4.70473101e-01, -6.72462165e-01,  5.34448521e-01,\n",
       "        -2.70841327e-01, -5.29737012e-02,  5.15434064e-02,\n",
       "        -1.17593844e-01, -3.44011168e-16,  0.00000000e+00],\n",
       "       [-8.89648223e-01, -1.44656225e-01,  3.07900329e-01,\n",
       "        -4.71603516e-01,  1.15260131e-01, -2.92401267e-02,\n",
       "        -2.72542575e-01, -3.44011168e-16,  0.00000000e+00],\n",
       "       [ 2.97864503e+00, -2.93098061e+00, -4.76304951e-01,\n",
       "        -1.39510958e+00,  5.55256306e-01, -3.58750954e-16,\n",
       "         4.22801375e+00, -3.44011168e-16,  0.00000000e+00],\n",
       "       [-2.05145644e+00, -5.12892928e-01,  3.42753897e-01,\n",
       "        -6.52289486e-01,  4.25845666e-01,  6.77001131e-02,\n",
       "        -4.27491306e-01, -3.44011168e-16,  2.58136747e+00],\n",
       "       [-6.32202085e-01,  3.94621264e-02,  5.86728873e-01,\n",
       "         1.90911708e-01, -3.37677109e-01,  1.32326940e-01,\n",
       "        -6.52871279e-01, -3.44011168e-16,  0.00000000e+00],\n",
       "       [ 4.37189566e-01,  1.41421248e+00, -4.76304951e-01,\n",
       "        -1.77655774e+00,  1.07289887e+00, -3.58750954e-16,\n",
       "         1.59388532e+00, -3.44011168e-16,  0.00000000e+00],\n",
       "       [-7.37821014e-01,  6.28640851e-01,  4.29887817e-01,\n",
       "        -3.91298640e-01,  2.96435026e-01, -3.36217552e-01,\n",
       "        -7.16259396e-01, -3.44011168e-16, -6.52134940e-01],\n",
       "       [-7.64225746e-01, -6.23363938e-01,  2.90473545e-01,\n",
       "         1.02257377e-02,  5.29374178e-01, -2.23120606e-01,\n",
       "        -4.83836299e-01, -3.44011168e-16,  0.00000000e+00],\n",
       "       [ 7.30942211e-01, -6.84736722e-01, -2.89862793e+00,\n",
       "         1.45571350e+00, -6.09439453e-01,  2.93894006e-01,\n",
       "         5.23330454e-01, -2.31088621e+00,  6.38548796e+00],\n",
       "       [-2.48932463e-02, -2.06029009e-01,  1.09210561e+00,\n",
       "        -7.00791379e-02, -4.15323493e-01, -4.53968333e-02,\n",
       "        -4.55663803e-01, -3.44011168e-16, -1.41295904e+00],\n",
       "       [-2.22928737e-01, -1.17571899e+00, -9.81681688e-01,\n",
       "        -3.10993765e-01,  1.35760227e+00, -2.92401267e-02,\n",
       "         7.25705081e-02, -3.44011168e-16,  1.24992530e+00],\n",
       "       [-3.84657721e-01, -3.41852141e-02,  3.95034249e-01,\n",
       "        -5.92060829e-01,  2.57611835e-01, -1.26180366e-01,\n",
       "        -3.71146313e-01, -3.44011168e-16,  0.00000000e+00],\n",
       "       [-1.71809669e+00, -4.76069257e-01, -4.76304951e-01,\n",
       "         3.20234454e+00, -2.80942033e+00,  9.09929911e+00,\n",
       "        -1.40648556e+00, -3.44011168e-16,  0.00000000e+00],\n",
       "       [-1.43714541e-01, -2.42852679e-01,  3.60180681e-01,\n",
       "        -7.00791379e-02, -1.41505092e-02,  1.92299932e-02,\n",
       "        -3.71146313e-01, -3.44011168e-16,  0.00000000e+00],\n",
       "       [-9.42056681e-02,  2.71875696e-02, -7.02853144e-01,\n",
       "        -5.11755954e-01,  2.44670771e-01, -4.53968333e-02,\n",
       "         5.14411357e-02, -3.44011168e-16,  0.00000000e+00],\n",
       "       [-8.66544083e-01,  1.78244919e+00,  6.91289577e-01,\n",
       "         5.92436086e-01, -1.01061244e+00, -6.75508392e-01,\n",
       "        -1.12476060e+00, -3.44011168e-16, -1.03254699e+00],\n",
       "       [ 6.05519733e-01,  7.02288191e-01, -3.35172431e+00,\n",
       "         3.71597678e-01, -1.15296414e+00, -3.03904139e-01,\n",
       "         1.12903913e+00, -3.44011168e-16,  1.08689157e-01],\n",
       "       [-2.85639976e-01, -7.21560392e-01,  4.82168169e-01,\n",
       "         9.05306132e-02,  1.28201195e-01, -6.15535399e-02,\n",
       "        -3.07758196e-01, -3.44011168e-16,  2.98895181e-01],\n",
       "       [-3.45050623e-01,  1.89292020e+00, -4.76304951e-01,\n",
       "         7.12893399e-01,  4.38786730e-01, -3.58750954e-16,\n",
       "        -2.44370078e-01,  1.74824984e+00,  0.00000000e+00],\n",
       "       [-7.93931069e-01, -7.58384063e-01,  5.86728873e-01,\n",
       "         3.51521459e-01,  4.12904602e-01,  1.00013526e-01,\n",
       "        -6.24698782e-01, -3.44011168e-16,  1.63033735e+00],\n",
       "       [-6.12398536e-01,  1.19327046e+00, -4.76304951e-01,\n",
       "         9.93960463e-01,  1.24113270e+00, -3.58750954e-16,\n",
       "        -3.35930692e-01,  1.81022138e+00,  0.00000000e+00],\n",
       "       [-6.32202085e-01, -9.63610063e-03,  3.77607465e-01,\n",
       "         1.50759270e-01, -1.20944523e-03,  1.48483646e-01,\n",
       "        -6.17655658e-01, -3.44011168e-16, -1.41295904e+00],\n",
       "       [ 1.57919423e+00,  3.94621264e-02,  1.16205705e-01,\n",
       "        -4.31451078e-01, -3.50618173e-01,  3.53866998e-02,\n",
       "        -8.94213472e-02, -3.44011168e-16,  0.00000000e+00],\n",
       "       [-2.49333469e-01,  5.91817180e-01,  5.69302089e-01,\n",
       "        -1.70460232e-01,  1.02319067e-01, -1.58493780e-01,\n",
       "        -7.93733762e-01, -3.44011168e-16,  0.00000000e+00],\n",
       "       [-7.21318056e-01,  1.49933137e-01,  4.82168169e-01,\n",
       "         1.90911708e-01,  4.38786730e-01, -3.03904139e-01,\n",
       "        -8.28949383e-01, -3.44011168e-16,  0.00000000e+00],\n",
       "       [ 2.02847568e-01,  2.11305921e-01,  1.33632489e-01,\n",
       "        -4.31451078e-01, -7.38850093e-01,  1.92299932e-02,\n",
       "        -3.30763541e-02, -3.44011168e-16,  0.00000000e+00]])"
      ]
     },
     "execution_count": 80,
     "metadata": {},
     "output_type": "execute_result"
    }
   ],
   "source": [
    "X_test"
   ]
  },
  {
   "cell_type": "code",
   "execution_count": 82,
   "id": "fb83f0eb",
   "metadata": {
    "ExecuteTime": {
     "end_time": "2023-04-28T17:53:04.724172Z",
     "start_time": "2023-04-28T17:53:04.698188Z"
    }
   },
   "outputs": [
    {
     "name": "stdout",
     "output_type": "stream",
     "text": [
      "[(3.0, 2.0), (2.0, 2.0), (2.0, 5.0), (3.0, 2.0), (1.0, 1.0), (2.0, 6.0), (1.0, 1.0), (5.0, 5.0), (1.0, 1.0), (3.0, 1.0), (1.0, 1.0), (2.0, 6.0), (1.0, 1.0), (7.0, 7.0), (1.0, 1.0), (2.0, 2.0), (6.0, 7.0), (3.0, 1.0), (1.0, 2.0), (2.0, 5.0), (1.0, 2.0), (2.0, 2.0), (6.0, 1.0), (2.0, 2.0), (2.0, 2.0), (5.0, 2.0), (2.0, 2.0), (1.0, 1.0), (1.0, 1.0), (5.0, 2.0), (1.0, 1.0), (1.0, 1.0), (2.0, 2.0), (2.0, 6.0), (1.0, 1.0), (7.0, 7.0), (1.0, 2.0), (7.0, 7.0), (2.0, 2.0), (7.0, 1.0), (1.0, 2.0), (1.0, 2.0), (1.0, 1.0)]\n"
     ]
    }
   ],
   "source": [
    "Y_pred=model_KNN.predict(X_test)\n",
    "print(list(zip(Y_test,Y_pred)))"
   ]
  },
  {
   "cell_type": "code",
   "execution_count": 86,
   "id": "e753eb3c",
   "metadata": {
    "ExecuteTime": {
     "end_time": "2023-04-28T17:58:15.007134Z",
     "start_time": "2023-04-28T17:58:14.971157Z"
    }
   },
   "outputs": [
    {
     "name": "stdout",
     "output_type": "stream",
     "text": [
      "[[12  5  0  0  0  0]\n",
      " [ 0  8  0  2  3  0]\n",
      " [ 2  2  0  0  0  0]\n",
      " [ 0  2  0  1  0  0]\n",
      " [ 1  0  0  0  0  1]\n",
      " [ 1  0  0  0  0  3]]\n",
      "Classification report:\n",
      "              precision    recall  f1-score   support\n",
      "\n",
      "         1.0       0.75      0.71      0.73        17\n",
      "         2.0       0.47      0.62      0.53        13\n",
      "         3.0       0.00      0.00      0.00         4\n",
      "         5.0       0.33      0.33      0.33         3\n",
      "         6.0       0.00      0.00      0.00         2\n",
      "         7.0       0.75      0.75      0.75         4\n",
      "\n",
      "    accuracy                           0.56        43\n",
      "   macro avg       0.38      0.40      0.39        43\n",
      "weighted avg       0.53      0.56      0.54        43\n",
      "\n",
      "Accuracy of the model:  0.5581395348837209\n"
     ]
    },
    {
     "name": "stderr",
     "output_type": "stream",
     "text": [
      "E:\\New folder\\lib\\site-packages\\sklearn\\metrics\\_classification.py:1344: UndefinedMetricWarning: Precision and F-score are ill-defined and being set to 0.0 in labels with no predicted samples. Use `zero_division` parameter to control this behavior.\n",
      "  _warn_prf(average, modifier, msg_start, len(result))\n",
      "E:\\New folder\\lib\\site-packages\\sklearn\\metrics\\_classification.py:1344: UndefinedMetricWarning: Precision and F-score are ill-defined and being set to 0.0 in labels with no predicted samples. Use `zero_division` parameter to control this behavior.\n",
      "  _warn_prf(average, modifier, msg_start, len(result))\n",
      "E:\\New folder\\lib\\site-packages\\sklearn\\metrics\\_classification.py:1344: UndefinedMetricWarning: Precision and F-score are ill-defined and being set to 0.0 in labels with no predicted samples. Use `zero_division` parameter to control this behavior.\n",
      "  _warn_prf(average, modifier, msg_start, len(result))\n"
     ]
    }
   ],
   "source": [
    "from sklearn.metrics import confusion_matrix, accuracy_score, classification_report\n",
    "\n",
    "cfm=confusion_matrix(Y_test,Y_pred)\n",
    "print(cfm)\n",
    "\n",
    "print(\"Classification report:\")\n",
    "\n",
    "print(classification_report(Y_test,Y_pred))\n",
    "\n",
    "acc=accuracy_score(Y_test,Y_pred)\n",
    "print(\"Accuracy of the model: \",acc)"
   ]
  },
  {
   "cell_type": "code",
   "execution_count": 91,
   "id": "333599f9",
   "metadata": {
    "ExecuteTime": {
     "end_time": "2023-04-28T18:01:26.213831Z",
     "start_time": "2023-04-28T18:01:25.581201Z"
    }
   },
   "outputs": [
    {
     "data": {
      "text/plain": [
       "Text(95.72222222222221, 0.5, 'Truth')"
      ]
     },
     "execution_count": 91,
     "metadata": {},
     "output_type": "execute_result"
    },
    {
     "data": {
      "image/png": "[encoded data removed]",
      "text/plain": [
       "<Figure size 1000x500 with 2 Axes>"
      ]
     },
     "metadata": {},
     "output_type": "display_data"
    }
   ],
   "source": [
    "import seaborn as sns \n",
    "plt.figure(figsize=(10,5))\n",
    "sns.heatmap(cfm,annot=True)\n",
    "plt.xlabel('Predicted')\n",
    "plt.ylabel('Truth')"
   ]
  },
  {
   "cell_type": "code",
   "execution_count": null,
   "id": "f6bb0662",
   "metadata": {},
   "outputs": [],
   "source": []
  }
 ],
 "metadata": {
  "kernelspec": {
   "display_name": "Python 3 (ipykernel)",
   "language": "python",
   "name": "python3"
  },
  "language_info": {
   "codemirror_mode": {
    "name": "ipython",
    "version": 3
   },
   "file_extension": ".py",
   "mimetype": "text/x-python",
   "name": "python",
   "nbconvert_exporter": "python",
   "pygments_lexer": "ipython3",
   "version": "3.9.13"
  }
 },
 "nbformat": 4,
 "nbformat_minor": 5
}
